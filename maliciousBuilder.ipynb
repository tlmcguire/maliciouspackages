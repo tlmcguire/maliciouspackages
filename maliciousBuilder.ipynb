{
 "cells": [
  {
   "cell_type": "code",
   "execution_count": 1,
   "metadata": {},
   "outputs": [],
   "source": [
    "import os\n",
    "import tarfile\n",
    "import ast\n",
    "import json\n",
    "import pandas as pd\n",
    "import math\n",
    "from collections import Counter\n",
    "import numpy as np\n",
    "from scipy.stats import entropy\n",
    "import logging\n",
    "import sys\n",
    "import xml.etree.ElementTree as ET\n",
    "\n",
    "logstd = logging.StreamHandler(sys.stdout)\n",
    "\n",
    "logging.basicConfig(\n",
    "    format=\"%(asctime)s %(levelname)s %(name)s:%(lineno)d - %(message)s\",\n",
    "    datefmt=\"%Y-%m-%d %H:%M:%S %Z\",\n",
    "    level=logging.INFO,\n",
    "    handlers=[logstd]\n",
    ")\n",
    "\n",
    "log = logging.getLogger()"
   ]
  },
  {
   "cell_type": "markdown",
   "metadata": {},
   "source": [
    "Extract files"
   ]
  },
  {
   "cell_type": "code",
   "execution_count": null,
   "metadata": {},
   "outputs": [],
   "source": [
    "repo_dir = \"/mnt/volume_nyc1_01/Backstabbers-Knife-Collection/samples\"\n",
    "#Find all tar.gz files in the repository\n",
    "tar_files = []\n",
    "for root, dirs, files in os.walk(repo_dir):\n",
    "    for file in files:\n",
    "        if file.endswith(\".tar.gz\") or file.endswith(\".tar.bz2\") or file.endswith(\".tar.xz\"):\n",
    "            tar_files.append(os.path.join(root, file))\n",
    "\n",
    "#Unzip the files with different compression methods\n",
    "for tar_file in tar_files:\n",
    "    if tar_file.endswith(\".tar.gz\"):\n",
    "        mode = 'r:gz'\n",
    "    elif tar_file.endswith(\".tar.bz2\"):\n",
    "        mode = 'r:bz2'\n",
    "    elif tar_file.endswith(\".tar.xz\"):\n",
    "        mode = 'r:xz'\n",
    "    else:\n",
    "        mode = 'r'\n",
    "    \n",
    "    try:\n",
    "        with tarfile.open(tar_file, mode) as tar_ref:\n",
    "            extract_dir = os.path.splitext(os.path.splitext(tar_file)[0])[0]\n",
    "            tar_ref.extractall(extract_dir)\n",
    "            print(f\"Extracted {tar_file} to {extract_dir}\")\n",
    "    except (tarfile.ReadError, tarfile.CompressionError) as e:\n",
    "        print(f\"Failed to extract {tar_file}: {e}\")\n",
    "\n",
    "print(\"Extraction process completed.\")"
   ]
  },
  {
   "cell_type": "markdown",
   "metadata": {},
   "source": [
    "Count number of packages"
   ]
  },
  {
   "cell_type": "code",
   "execution_count": null,
   "metadata": {},
   "outputs": [],
   "source": [
    "dataset_1_dir = \"/mnt/volume_nyc1_01/Backstabbers-Knife-Collection/samples\"\n",
    "dataset_2_dir = \"/mnt/volume_nyc1_01/pypi_malregistry\"  \n",
    "\n",
    "def count_package_files(directory):\n",
    "    count = 0\n",
    "    for root, dirs, files in os.walk(directory):\n",
    "        for file in files:\n",
    "            if file.endswith(\".tar.gz\") or file.endswith(\".tar.bz2\") or file.endswith(\".tar.xz\"):\n",
    "                count += 1\n",
    "    return count\n",
    "\n",
    "count_1 = count_package_files(dataset_1_dir)\n",
    "count_2 = count_package_files(dataset_2_dir)\n",
    "\n",
    "print(f\"Number of packages in dataset 1: {count_1}\")\n",
    "print(f\"Number of packages in dataset 2: {count_2}\")"
   ]
  },
  {
   "cell_type": "markdown",
   "metadata": {},
   "source": [
    "Convert setup.py to JSON"
   ]
  },
  {
   "cell_type": "code",
   "execution_count": null,
   "metadata": {},
   "outputs": [],
   "source": [
    "logging.basicConfig(level=logging.DEBUG)\n",
    "log = logging.getLogger(__name__)\n",
    "\n",
    "def parse_setup_py(setup_py_path):\n",
    "    setup_args = {}\n",
    "    try:\n",
    "        with open(setup_py_path, 'r', encoding='utf-8') as f:\n",
    "            content = f.read()\n",
    "\n",
    "        # Remove BOM if present\n",
    "        if content.startswith('\\ufeff'):\n",
    "            content = content[1:]\n",
    "\n",
    "        # Parse the content with AST\n",
    "        tree = ast.parse(content, filename=setup_py_path)\n",
    "\n",
    "        for node in tree.body:\n",
    "            if (isinstance(node, ast.Expr) and isinstance(node.value, ast.Call) and\n",
    "                    isinstance(node.value.func, ast.Name) and node.value.func.id == 'setup'):\n",
    "                for kwarg in node.value.keywords:\n",
    "                    try:\n",
    "                        value = ast.literal_eval(kwarg.value)\n",
    "                    except (ValueError, SyntaxError):\n",
    "                        # Fallback to using the repr of the value if literal_eval fails\n",
    "                        value = ast.dump(kwarg.value)\n",
    "                    setup_args[kwarg.arg] = value\n",
    "\n",
    "    except SyntaxError as e:\n",
    "        log.error(f\"SyntaxError in {setup_py_path}: {e}\")\n",
    "        return None\n",
    "\n",
    "    return setup_args\n",
    "\n",
    "def convert_setup_to_json(dataset_dir):\n",
    "    setup_py_files = []\n",
    "    for root, _, files in os.walk(dataset_dir):\n",
    "        for file in files:\n",
    "            if file == 'setup.py':\n",
    "                setup_py_files.append(os.path.join(root, file))\n",
    "\n",
    "    for setup_py in setup_py_files:\n",
    "        setup_args = parse_setup_py(setup_py)\n",
    "        if setup_args is None:\n",
    "            continue  # Skip this setup.py file due to SyntaxError\n",
    "\n",
    "        json_path = os.path.join(os.path.dirname(setup_py), 'setup.json')\n",
    "        with open(json_path, 'w', encoding='utf-8') as json_file:\n",
    "            json.dump(setup_args, json_file, indent=2)\n",
    "        log.debug(f'Converted {setup_py} to {json_path}')\n",
    "\n",
    "# Replace 'dataset_dir' with the variable containing your packages directory path\n",
    "dataset_dir = '/mnt/volume_nyc1_01/benignPyPI'\n",
    "convert_setup_to_json(dataset_dir)\n"
   ]
  },
  {
   "cell_type": "markdown",
   "metadata": {},
   "source": [
    "Count files successfully converted to JSON"
   ]
  },
  {
   "cell_type": "code",
   "execution_count": null,
   "metadata": {},
   "outputs": [],
   "source": [
    "dataset_1_dir = \"/mnt/volume_nyc1_01/Backstabbers-Knife-Collection/samples\"\n",
    "dataset_2_dir = \"/mnt/volume_nyc1_01/benignPyPI\"\n",
    "\n",
    "def is_valid_json_file(file_path):\n",
    "    try:\n",
    "        with open(file_path, 'r', encoding='utf-8') as file:\n",
    "            json.load(file)\n",
    "        return True\n",
    "    except (ValueError, json.JSONDecodeError):\n",
    "        return False\n",
    "\n",
    "def count_valid_json_files(directory):\n",
    "    count = 0\n",
    "    for root, _, files in os.walk(directory):\n",
    "        for file in files:\n",
    "            if file == \"setup.json\" and is_valid_json_file(os.path.join(root, file)):\n",
    "                count += 1\n",
    "    return count\n",
    "\n",
    "count_1 = count_valid_json_files(dataset_1_dir)\n",
    "count_2 = count_valid_json_files(dataset_2_dir)\n",
    "\n",
    "print(f\"Number of valid setup.json files in dataset 1: {count_1}\")\n",
    "print(f\"Number of valid setup.json files in dataset 2: {count_2}\")"
   ]
  }
 ],
 "metadata": {
  "kernelspec": {
   "display_name": "Python 3",
   "language": "python",
   "name": "python3"
  },
  "language_info": {
   "codemirror_mode": {
    "name": "ipython",
    "version": 3
   },
   "file_extension": ".py",
   "mimetype": "text/x-python",
   "name": "python",
   "nbconvert_exporter": "python",
   "pygments_lexer": "ipython3",
   "version": "3.12.3"
  }
 },
 "nbformat": 4,
 "nbformat_minor": 2
}
