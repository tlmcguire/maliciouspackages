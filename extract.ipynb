{
 "cells": [
  {
   "cell_type": "code",
   "execution_count": 1,
   "metadata": {},
   "outputs": [],
   "source": [
    "import requests\n",
    "import subprocess\n",
    "import sys\n",
    "import os\n",
    "import tarfile"
   ]
  },
  {
   "cell_type": "code",
   "execution_count": 2,
   "metadata": {},
   "outputs": [
    {
     "name": "stdout",
     "output_type": "stream",
     "text": [
      "['boto3', 'botocore', 'urllib3', 'requests', 'wheel', 'certifi', 'idna', 'typing-extensions', 'charset-normalizer', 'pip', 'setuptools', 'python-dateutil', 's3transfer', 'packaging', 'aiobotocore', 'pyyaml', 'six', 's3fs', 'fsspec', 'numpy', 'cryptography', 'grpcio-status', 'google-api-core', 'cffi', 'pycparser', 'pypular', 'pandas', 'importlib-metadata', 'pyasn1', 'rsa', 'zipp', 'attrs', 'click', 'pydantic', 'protobuf', 'jmespath', 'platformdirs', 'pytz', 'jinja2', 'colorama', 'markupsafe', 'pyjwt', 'awscli', 'tomli', 'wrapt', 'google-auth', 'googleapis-common-protos', 'filelock', 'cachetools', 'requests-oauthlib', 'oauthlib', 'pluggy', 'virtualenv', 'pyarrow', 'docutils', 'jsonschema', 'pyasn1-modules', 'pytest', 'exceptiongroup', 'aiohttp', 'pyparsing', 'sqlalchemy', 'scipy', 'isodate', 'multidict', 'psutil', 'pyopenssl', 'yarl', 'iniconfig', 'decorator', 'soupsieve', 'pygments', 'tzdata', 'async-timeout', 'beautifulsoup4', 'frozenlist', 'aiosignal', 'tqdm', 'grpcio', 'pillow', 'requests-toolbelt', 'greenlet', 'pydantic-core', 'openpyxl', 'et-xmlfile', 'lxml', 'werkzeug', 'pynacl', 'tomlkit', 'proto-plus', 'importlib-resources', 'asn1crypto', 'azure-core', 'deprecated', 'distlib', 'websocket-client', 'annotated-types', 'coverage', 'google-cloud-storage', 'more-itertools', 'h11', 'msgpack', 'sniffio', 'pexpect', 'ptyprocess', 'referencing', 'scikit-learn', 'rpds-py', 'google-cloud-core', 'flask', 'chardet', 'anyio', 'backoff', 'psycopg2-binary', 'jsonschema-specifications', 'google-resumable-media', 'matplotlib', 'python-dotenv', 'tenacity', 'msal', 'poetry-plugin-export', 'py', 'tabulate', 'bcrypt', 'httpcore', 'wcwidth', 'httpx', 'poetry-core', 'rich', 'pathspec', 'mypy-extensions', 'regex', 'dill', 'paramiko', 'gitpython', 'threadpoolctl', 'google-auth-oauthlib', 'itsdangerous', 'snowflake-connector-python', 'kiwisolver', 'ruamel-yaml', 'sortedcontainers', 'keyring', 'cycler', 'smmap', 'google-crc32c', 'shellingham', 'joblib', 'networkx', 'gitdb', 'markdown-it-py', 'mdurl', 'pymysql', 'azure-storage-blob', 'portalocker', 'py4j', 'fonttools', 'build', 'sqlparse', 'secretstorage', 'jaraco-classes', 'jeepney', 'google-api-python-client', 'awswrangler', 'fastjsonschema', 'grpcio-tools', 'tzlocal', 'marshmallow', 'nest-asyncio', 'msal-extensions', 'pyproject-hooks', 'google-cloud-bigquery', 'pkginfo', 'rapidfuzz', 'typedload', 'prompt-toolkit', 'trove-classifiers', 'xmltodict', 'pytest-cov', 'cython', 'dnspython', 'pendulum', 'distro', 'scramp', 'azure-identity', 'cloudpickle', 'uritemplate', 'httplib2', 'toml', 'google-auth-httplib2', 'pyrsistent', 'defusedxml', 'docker', 'traitlets', 'ruamel-yaml-clib', 'ply', 'mccabe', 'pytzdata', 'future', 'termcolor', 'requests-aws4auth', 'ipython', 'cachecontrol', 'blinker', 'babel', 'markdown', 'contourpy', 'tornado', 'pygithub', 'redis', 'poetry', 'gunicorn', 'msrest', 'alembic', 'retry', 'azure-common', 'jsonpointer', 'jedi', 'huggingface-hub', 'datadog', 'pycryptodomex', 'redshift-connector', 'pycodestyle', 'isort', 'pg8000', 'webencodings', 'crashtest', 'toolz', 'parso', 'matplotlib-inline', 'dulwich', 'jsonpath-ng', 'tb-nightly', 'cleo', 'fastapi', 'prometheus-client', 'grpc-google-iam-v1', 'types-requests', 'black', 'installer', 'kubernetes', 'multiprocess', 'python-json-logger', 'pkgutil-resolve-name', 'google-pasta', 'pyzmq', 'pycryptodome', 'sentry-sdk', 'jsonpatch', 'arrow', 'mako', 'typer', 'opensearch-py', 'jupyter-core', 'transformers', 'websockets', 'progressbar2', 'torch', 'pyspark', 'asttokens', 'jupyter-client', 'executing', 'pymongo', 'typing-inspect', 'aioitertools', 'tensorboard', 'setuptools-scm', 'opentelemetry-api', 'stack-data', 'oscrypto', 'pure-eval', 'elasticsearch', 'argcomplete', 'google-cloud-pubsub', 'asgiref', 'pytest-runner', 'python-utils', 'ipykernel', 'orjson', 'aenum', 'uvicorn', 'types-python-dateutil', 'jupyter-server', 'bs4', 'pyflakes', 'starlette', 'nbconvert', 'absl-py', 'debugpy', 'shapely', 'loguru', 'smart-open', 'tokenizers', 'nbformat', 'requests-file', 'google-cloud-secret-manager', 'pyodbc', 'structlog', 'sagemaker', 'snowflake-sqlalchemy', 'notebook', 'flake8', 'rfc3339-validator', 'apache-airflow', 'altair', 'adal', 'xlrd', 'mysql-connector-python', 'monotonic', 'mistune', 'tinycss2', 'humanfriendly', 'pylint', 'zope-interface', 'bleach', 'astroid', 'h5py', 'pysocks', 'sentencepiece', 'comm', 'opentelemetry-sdk', 'orbax-checkpoint', 'tensorflow', 'imageio', 'asynctest', 'jupyterlab-server', 'typeguard', 'openai', 'appdirs', 'that-depends', 'cattrs', 'pbr', 'nltk', 'great-expectations', 'xlsxwriter', 'mpmath', 'sympy', 'gremlinpython', 'send2trash', 'google-cloud-bigquery-storage', 'jupyterlab', 'argon2-cffi', 'opentelemetry-semantic-conventions', 'oauth2client', 'nbclient', 'xgboost', 'argon2-cffi-bindings', 'tensorstore', 'gast', 'simplejson', 'setproctitle', 'text-unidecode', 'flatbuffers', 'pytest-xdist', 'slack-sdk', 'overrides', 'json5', 'execnet', 'notebook-shim', 'croniter', 'ujson', 'watchdog', 'db-dtypes', 'pathos', 'dataclasses-json', 'analytics-python', 'fast-version', 'schema', 'pandocfilters', 'email-validator', 'pox', 'ppft', 'python-slugify', 'google-cloud-aiplatform', 'jupyterlab-pygments', 'widgetsnbextension', 'ipywidgets', 'keras', 'google-cloud-resource-manager', 'pkce', 'evergreen-py', 'lz4', 'nodeenv', 'smdebug-rulesconfig', 'webcolors', 'aiofiles', 'jupyter-events', 'pre-commit', 'mypy', 'db-contrib-tool', 'identify', 'seaborn', 'fqdn', 'rfc3986-validator', 'tensorflow-estimator', 'isoduration', 'uri-template', 'jupyterlab-widgets', 'entrypoints', 'terminado', 'google-cloud-appengine-logging', 'tensorboard-data-server', 'safetensors', 'html5lib', 'hvac', 'numba', 'lazy-object-proxy', 'semver', 'statsmodels', 'llvmlite', 'jupyter-server-terminals', 'azure-mgmt-core', 'cfgv', 'selenium', 'cached-property', 'async-lru', 'azure-storage-file-datalake', 'pytest-mock', 'databricks-sql-connector', 'docker-pycreds', 'mock', 'databricks-cli', 'click-man', 'pandas-gbq', 'opt-einsum', 'jupyter-lsp', 'thrift', 'apache-airflow-providers-common-sql', 'psycopg2', 'patsy', 'lockfile', 'makefun', 'msrestazure', 'aws-requests-auth', 'ndg-httpsclient', 'opentelemetry-proto', 'wsproto', 'httptools', 'backports-zoneinfo', 'responses', 'pickleshare', 'antlr4-python3-runtime', 'wandb', 'semantic-version', 'uvloop', 'astunparse', 'python-multipart', 'django', 'click-plugins', 'backcall', 'opencv-python', 'google-cloud-logging', 'sshtunnel', 'plotly', 'tensorflow-io-gcs-filesystem', 'pydata-google-auth', 'langchain-core', 'dataclasses', 'ordered-set', 'gsutil', 'gcsfs', 'tox', 'azure-keyvault-secrets', 'watchfiles', 'argparse', 'scikit-image', 'aws-sam-translator', 'prettytable', 'faker', 'sphinx', 'confluent-kafka', 'spacy', 'kafka-python', 'pydeequ', 'contextlib2', 'inflection', 'coloredlogs', 'jaraco-functools', 'torchvision', 'zeep', 'retrying', 'unidecode', 'rfc3986', 'docstring-parser', 'opentelemetry-exporter-otlp-proto-common', 'libcst', 'pymssql', 'azure-datalake-store', 'xxhash', 'imbalanced-learn', 'tldextract', 'graphql-core', 'opentelemetry-exporter-otlp-proto-http', 'libclang', 'hatchling', 'jaraco-context', 'mlflow', 'snowballstemmer', 'trio', 'colorlog', 'delta-spark', 'azure-mgmt-resource', 'azure-nspkg', 'deprecation', 'google-cloud-firestore', 'outcome', 'pipenv', 'google-cloud-audit-log', 'opentelemetry-exporter-otlp-proto-grpc', 'pywavelets', 'catalogue', 'pysam', 'pytest-metadata', 'wasabi', 'triton', 'tensorflow-serving-api', 'querystring-parser', 'deepdiff', 'cymem', 'jsonpickle', 'tblib', 'srsly', 'murmurhash', 'fastavro', 'edgegrid-python', 'preshed', 'gspread', 'ruff', 'opencensus', 'opencensus-context', 'docopt', 'pybind11', 'aniso8601', 'azure-storage-common', 'datasets', 'graphviz', 'uv', 'cinemagoer', 'imdbpy', 'configparser', 'more-executors', 'fastpurge', 'thinc', 'opencensus-ext-azure', 'backports-tarfile', 'pytest-asyncio', 'ml-dtypes', 'flask-appbuilder', 'google-cloud-kms', 'trio-websocket', 'nvidia-nvjitlink-cu12', 'datetime', 'google-cloud-dlp', 'google-cloud-vision', 'langchain-community', 'opentelemetry-exporter-otlp', 'simple-salesforce', 'nvidia-nccl-cu12', 'ninja', 'imagesize', 'apache-airflow-providers-snowflake', 'brotli', 'google-cloud-monitoring', 'google-cloud-dataproc', 'pysftp', 'blis', 'watchtower', 'azure-mgmt-storage', 'alabaster', 'ecdsa', 'apache-airflow-providers-databricks', 'google-cloud-spanner', 'sphinxcontrib-serializinghtml', 'gevent', 'freezegun', 'mdit-py-plugins', 'looker-sdk', 'chex', 'pytest-html', 'azure-graphrbac', 'tiktoken', 'nvidia-cudnn-cu12', 'omegaconf', 'mypy-boto3-rds', 'pywin32', 'sphinxcontrib-htmlhelp', 'nvidia-cublas-cu12', 'nvidia-cuda-nvrtc-cu12', 'typing', 'sphinxcontrib-qthelp', 'sphinxcontrib-devhelp', 'boto', 'sphinxcontrib-applehelp', 'zstandard', 'apache-airflow-providers-google', 'zope-event', 'kombu', 'jira', 'azure-keyvault', 'nvidia-cuda-runtime-cu12', 'google-cloud-bigtable', 'nvidia-cuda-cupti-cu12', 'sphinxcontrib-jsmath', 'nvidia-cusparse-cu12', 'nvidia-cusolver-cu12', 'nvidia-cufft-cu12', 'python-gnupg', 'azure-cosmos', 'python-daemon', 'inject', 'amqp', 'applicationinsights', 'nvidia-curand-cu12', 'google-ads', 'google-cloud-tasks', 'fastapi-cli', 'cfn-lint', 'celery', 'pyathena', 'types-pyyaml', 'nvidia-nvtx-cu12', 'langchain', 'bitarray', 'google-cloud-container', 'pycrypto', 'dbt-core', 'vine', 'python-magic', 'google-cloud-datacatalog', 'dask', 'billiard', 'authlib', 'apispec', 'optax', 'pycountry', 'azure-keyvault-keys', 'mashumaro', 'pyproj', 'flask-cors', 'djangorestframework', 'google-cloud-bigquery-datatransfer', 'apache-airflow-providers-ssh', 'azure-mgmt-containerregistry', 'google-cloud-language', 'google-cloud-videointelligence', 'invoke', 'google-cloud-build', 'azure-storage-queue', 'pathlib2', 'google-cloud-workflows', 'google-cloud-redis', 'texttable', 'accelerate', 'pypdf2', 'azure-mgmt-authorization', 'google-cloud-automl', 'azure-mgmt-network', 'moto', 'python-jose', 'flit-core', 'stevedore', 'apache-airflow-providers-mysql', 'protobuf3-to-dict', 'pip-tools', 'azure-mgmt-keyvault', 'google-cloud-os-login', 'ijson', 'einops', 'google-cloud-memcache', 'langcodes', 'azure-data-tables', 'gradio', 'pytimeparse', 'hpack', 'tensorflow-text', 'cramjam', 'azure-mgmt-compute', 'apache-airflow-providers-http', 'spacy-legacy', 'google-cloud-translate', 'cligj', 'google-cloud-dataplex', 'humanize', 'crcmod', 'azure-cli', 'jpype1', 'opentelemetry-instrumentation', 'hyperframe', 'mypy-boto3-s3', 'h2', 'langsmith', 'apache-beam', 'datadog-api-client', 'hypothesis', 'pyproject-api', 'ratelimit', 'spacy-loggers', 'lightgbm', 'enum34', 'holidays', 'click-didyoumean', 'sqlalchemy-bigquery', 'grpcio-gcp', 'sh', 'graphene', 'graphql-relay', 'mysqlclient', 'cmake', 'google-cloud-speech', 'python-http-client', 'click-repl', 'apscheduler', 'google-cloud-dataproc-metastore', 'confection', 'azure-mgmt-cosmosdb', 'cssselect', 'validators', 'google-cloud-orchestration-airflow', 'avro', 'agate', 'google-cloud-texttospeech', 'avro-python3', 'dateparser', 'ipython-genutils', 'jsondiff', 'shap', 'aws-psycopg2', 'parsedatetime', 'fuzzywuzzy', 'boto3-stubs', 'elastic-transport', 'google-cloud-dataform', 'office365-rest-python-client', 'azure-mgmt-nspkg', 'tifffile', 'fastparquet', 'flask-sqlalchemy', 'fire', 'azure-mgmt-msi', 'polars', 'readme-renderer', 'junit-xml', 'fasteners', 'botocore-stubs', 'time-machine', 'futures', 'nvidia-cudnn-cu11', 'nvidia-cublas-cu11', 'pytest-timeout', 'sendgrid', 'gcloud-aio-storage', 'azure-mgmt-datalake-nspkg', 'azure-mgmt-containerinstance', 'tensorboard-plugin-wit', 'azure-mgmt-recoveryservices', 'gcloud-aio-auth', 'fabric', 'types-protobuf', 'azure-mgmt-monitor', 'ddtrace', 'jax', 'azure-mgmt-redis', 'pyspnego', 'nvidia-cuda-runtime-cu11', 'sklearn', 'nvidia-cuda-nvrtc-cu11', 'typed-ast', 'azure-servicebus', 'azure-batch', 'scp', 'knack', 'azure-mgmt-sql', 'azure-mgmt-signalr', 'jaydebeapi', 'gcloud-aio-bigquery', 'nose', 'azure-mgmt-datalake-store', 'yamllint', 'nh3', 'azure-mgmt-web', 'astor', 'azure-mgmt-containerservice', 'onnxruntime', 'twine', 'parameterized', 'unicodecsv', 'phonenumbers', 'azure-mgmt-dns', 'pipx', 'azure-mgmt-servicebus', 'py-cpuinfo', 'google-cloud-compute', 'pydot', 'pyserial', 'flask-wtf', 'geopandas', 'slicer', 'types-setuptools', 'azure-mgmt-eventhub', 'resolvelib', 'lazy-loader', 'azure-mgmt-rdbms', 'azure-mgmt-batch', 'pyarrow-hotfix', 'marisa-trie', 'fiona', 'azure-mgmt-loganalytics', 'slackclient', 'databricks-sdk', 'azure-mgmt-cdn', 'azure-mgmt-iothub', 'pytest-rerunfailures', 'levenshtein', 'flask-login', 'kfp', 'azure-mgmt-trafficmanager', 'azure-mgmt-recoveryservicesbackup', 'azure-mgmt-marketplaceordering', 'azure-mgmt-devtestlabs', 'pyroaring', 'tf-keras', 'opentelemetry-util-http', 'pathy', 'language-data', 'azure-mgmt-search', 'azure-mgmt-cognitiveservices', 'azure-mgmt-managementgroups', 'parse', 'ddsketch', 'azure-mgmt-applicationinsights', 'azure-mgmt-eventgrid', 'azure-mgmt-servicefabric', 'azure-mgmt-datafactory', 'azure-mgmt-advisor', 'azure-mgmt-billing', 'azure-mgmt-media', 'azure-mgmt-iothubprovisioningservices', 'universal-pathlib', 'azure-mgmt-batchai', 'azure-mgmt-policyinsights', 'types-urllib3', 'azure-mgmt-iotcentral', 'azure-mgmt-datamigration', 'types-awscrt', 'azure-mgmt-maps', 'python-gitlab', 'azure-storage-file-share', 'mypy-boto3-appflow', 'lark', 'azure-cli-core', 'yapf', 'wtforms', 'azure-eventhub', 'tensorflow-metadata', 'python-docx', 'inflect', 'sqlalchemy-utils', 'leather', 'azure-appconfiguration', 'iso8601', 'apache-airflow-providers-fab', 'onnx', 'bytecode', 'funcsigs', 'geoip2', 'types-pytz', 'python-levenshtein', 'opencv-python-headless', 'dbt-extractor', 'starkbank-ecdsa', 'tensorflow-hub', 'connexion', 'django-cors-headers', 'partd', 'cloudpathlib', 'netaddr', 'azure-mgmt-datalake-analytics', 'qtconsole', 'hyperlink', 'torchaudio', 'setuptools-rust', 'pytorch-lightning', 'cron-descriptor', 'locket', 'geographiclib', 'keras-preprocessing', 'envier', 'timm', 'dm-tree', 'pyotp', 'geopy', 'xarray', 'ansible', 'limits', 'pika', 'azure-mgmt-apimanagement', 'diskcache', 'types-s3transfer', 'dacite', 'psycopg', 'cachelib', 'uamqp', 'gensim', 'ftfy', 'maxminddb', 'azure-loganalytics', 'marshmallow-enum', 'apache-airflow-providers-sqlite', 'cloud-tpu-client', 'qtpy', 'apache-airflow-providers-ftp', 'pyhcl', 'statsd', 'azure-mgmt-consumption', 'gradio-client', 'azure-mgmt-relay', 'rich-argparse', 'torchmetrics', 'langchain-text-splitters', 'flask-caching', 'junitparser', 'apache-airflow-providers-common-io', 'prometheus-flask-exporter', 'requests-mock', 'pydantic-settings', 'azure-multiapi-storage', 'azure-mgmt-reservations', 'dbt-semantic-interfaces', 'apache-airflow-providers-smtp', 'javaproperties', 'google-re2', 'pyee', 'keras-applications', 'mlflow-skinny', 'awscrt', 'lightning-utilities', 'pypdf', 'pydub', 'marshmallow-sqlalchemy', 'google-cloud', 'pathlib', 'jupyter-console', 'flask-limiter', 'configargparse', 'ansible-core', 'autopep8', 'linkify-it-py', 'reportlab', 'faiss-cpu', 'opentelemetry-instrumentation-asgi', 'flask-jwt-extended', 'orderedmultidict', 'azure-cli-telemetry', 'azure-synapse-artifacts', 'strenum', 'requests-ntlm', 'mergedeep', 'aws-xray-sdk', 'uc-micro-py', 'pytest-forked', 'azure-keyvault-certificates', 'convertdate', 'userpath', 'apache-airflow-providers-imap', 'natsort', 'jupyter', 'cerberus', 'apache-airflow-providers-amazon', 'commonmark', 'azure-mgmt-hdinsight', 'azure-mgmt-privatedns', 'spark-nlp', 'bracex', 'asyncio', 'azure-synapse-spark', 'azure-mgmt-security', 'jaxlib', 'azure-mgmt-kusto', 'azure-mgmt-managedservices', 'swagger-ui-bundle', 'elasticsearch-dsl', 'ipaddress', 'pyaml', 'azure-mgmt-netapp', 'azure-devops', 'constructs', 'azure-mgmt-redhatopenshift', 'azure-keyvault-administration', 'azure-mgmt-synapse', 'kfp-pipeline-spec', 'azure-mgmt-imagebuilder', 'django-filter', 'azure-mgmt-servicelinker', 'azure-mgmt-appconfiguration', 'azure-mgmt-sqlvirtualmachine', 'opentelemetry-instrumentation-fastapi', 'azure-mgmt-servicefabricmanagedclusters', 'azure-mgmt-botservice', 'openapi-spec-validator', 'datefinder']\n"
     ]
    }
   ],
   "source": [
    "def get_top_pypi_packages(url='https://hugovk.github.io/top-pypi-packages/top-pypi-packages-30-days.json'):\n",
    "    response = requests.get(url)\n",
    "    response.raise_for_status() \n",
    "    \n",
    "    data = response.json()\n",
    "    packages = [package['project'] for package in data['rows'][:1000]]\n",
    "\n",
    "    return packages\n",
    "\n",
    "top_packages = get_top_pypi_packages()\n",
    "print(top_packages)\n"
   ]
  },
  {
   "cell_type": "code",
   "execution_count": 35,
   "metadata": {},
   "outputs": [
    {
     "name": "stdout",
     "output_type": "stream",
     "text": [
      "Collecting boto3\n",
      "  Using cached boto3-1.34.136.tar.gz (108 kB)\n",
      "  Installing build dependencies: started\n",
      "  Installing build dependencies: finished with status 'done'\n",
      "  Getting requirements to build wheel: started\n",
      "  Getting requirements to build wheel: finished with status 'done'\n",
      "  Preparing metadata (pyproject.toml): started\n",
      "  Preparing metadata (pyproject.toml): finished with status 'done'\n",
      "Saved /mnt/volume_nyc1_01/benignPyPI/boto3/boto3-1.34.136.tar.gz\n",
      "Successfully downloaded boto3\n",
      "Downloaded boto3 into /mnt/volume_nyc1_01/benignPyPI/boto3\n",
      "Collecting botocore\n",
      "  Using cached botocore-1.34.136.tar.gz (12.6 MB)\n",
      "  Installing build dependencies: started\n",
      "  Installing build dependencies: finished with status 'done'\n",
      "  Getting requirements to build wheel: started\n",
      "  Getting requirements to build wheel: finished with status 'done'\n",
      "  Preparing metadata (pyproject.toml): started\n",
      "  Preparing metadata (pyproject.toml): finished with status 'done'\n",
      "Saved /mnt/volume_nyc1_01/benignPyPI/botocore/botocore-1.34.136.tar.gz\n",
      "Successfully downloaded botocore\n",
      "Downloaded botocore into /mnt/volume_nyc1_01/benignPyPI/botocore\n",
      "Collecting urllib3\n",
      "  Using cached urllib3-2.2.2.tar.gz (292 kB)\n",
      "  Installing build dependencies: started\n",
      "  Installing build dependencies: finished with status 'done'\n",
      "  Getting requirements to build wheel: started\n",
      "  Getting requirements to build wheel: finished with status 'done'\n",
      "  Preparing metadata (pyproject.toml): started\n",
      "  Preparing metadata (pyproject.toml): finished with status 'done'\n",
      "Saved /mnt/volume_nyc1_01/benignPyPI/urllib3/urllib3-2.2.2.tar.gz\n",
      "Successfully downloaded urllib3\n",
      "Downloaded urllib3 into /mnt/volume_nyc1_01/benignPyPI/urllib3\n",
      "Collecting requests\n",
      "  Using cached requests-2.32.3.tar.gz (131 kB)\n",
      "  Installing build dependencies: started\n",
      "  Installing build dependencies: finished with status 'done'\n",
      "  Getting requirements to build wheel: started\n",
      "  Getting requirements to build wheel: finished with status 'done'\n",
      "  Preparing metadata (pyproject.toml): started\n",
      "  Preparing metadata (pyproject.toml): finished with status 'done'\n",
      "Saved /mnt/volume_nyc1_01/benignPyPI/requests/requests-2.32.3.tar.gz\n",
      "Successfully downloaded requests\n",
      "Downloaded requests into /mnt/volume_nyc1_01/benignPyPI/requests\n",
      "Collecting wheel\n",
      "  Using cached wheel-0.43.0.tar.gz (99 kB)\n",
      "  Installing build dependencies: started\n",
      "  Installing build dependencies: finished with status 'done'\n",
      "  Getting requirements to build wheel: started\n",
      "  Getting requirements to build wheel: finished with status 'done'\n",
      "  Preparing metadata (pyproject.toml): started\n",
      "  Preparing metadata (pyproject.toml): finished with status 'done'\n",
      "Saved /mnt/volume_nyc1_01/benignPyPI/wheel/wheel-0.43.0.tar.gz\n",
      "Successfully downloaded wheel\n",
      "Downloaded wheel into /mnt/volume_nyc1_01/benignPyPI/wheel\n"
     ]
    }
   ],
   "source": [
    "def dl_packages(packages, target_directory):\n",
    "    for package in packages:\n",
    "        package_dir = os.path.join(target_directory, package)\n",
    "        os.makedirs(package_dir, exist_ok=True)\n",
    "        try:\n",
    "            subprocess.check_call([sys.executable, \"-m\", \"pip\", \"download\", package, \"--no-binary=:all:\", \"--no-deps\", \"--dest\", package_dir])\n",
    "            print(f\"Downloaded {package} into {package_dir}\")\n",
    "        except subprocess.CalledProcessError as e:\n",
    "            print(f\"Failed to download {package}: {e}\")\n",
    "\n",
    "top_packages = get_top_pypi_packages()\n",
    "\n",
    "download_directory = '/mnt/volume_nyc1_01/benignPyPI/'\n",
    "\n",
    "dl_packages(top_packages, download_directory)"
   ]
  },
  {
   "cell_type": "code",
   "execution_count": 36,
   "metadata": {},
   "outputs": [
    {
     "name": "stdout",
     "output_type": "stream",
     "text": [
      "Extracted /mnt/volume_nyc1_01/benignPyPI/botocore/botocore-1.34.136.tar.gz to /mnt/volume_nyc1_01/benignPyPI/botocore/botocore-1.34.136\n",
      "Extracted /mnt/volume_nyc1_01/benignPyPI/requests/requests-2.32.3.tar.gz to /mnt/volume_nyc1_01/benignPyPI/requests/requests-2.32.3\n",
      "Extracted /mnt/volume_nyc1_01/benignPyPI/urllib3/urllib3-2.2.2.tar.gz to /mnt/volume_nyc1_01/benignPyPI/urllib3/urllib3-2.2.2\n",
      "Extracted /mnt/volume_nyc1_01/benignPyPI/boto3/boto3-1.34.136.tar.gz to /mnt/volume_nyc1_01/benignPyPI/boto3/boto3-1.34.136\n",
      "Extracted /mnt/volume_nyc1_01/benignPyPI/wheel/wheel-0.43.0.tar.gz to /mnt/volume_nyc1_01/benignPyPI/wheel/wheel-0.43.0\n",
      "Extraction process completed.\n"
     ]
    }
   ],
   "source": [
    "repo_dir = \"/mnt/volume_nyc1_01/benignPyPI/\"\n",
    "#Find all tar.gz files in the repository\n",
    "tar_files = []\n",
    "for root, dirs, files in os.walk(repo_dir):\n",
    "    for file in files:\n",
    "        if file.endswith(\".tar.gz\") or file.endswith(\".tar.bz2\") or file.endswith(\".tar.xz\"):\n",
    "            tar_files.append(os.path.join(root, file))\n",
    "\n",
    "#Unzip the files with different compression methods\n",
    "for tar_file in tar_files:\n",
    "    if tar_file.endswith(\".tar.gz\"):\n",
    "        mode = 'r:gz'\n",
    "    elif tar_file.endswith(\".tar.bz2\"):\n",
    "        mode = 'r:bz2'\n",
    "    elif tar_file.endswith(\".tar.xz\"):\n",
    "        mode = 'r:xz'\n",
    "    else:\n",
    "        mode = 'r'\n",
    "    \n",
    "    try:\n",
    "        with tarfile.open(tar_file, mode) as tar_ref:\n",
    "            extract_dir = os.path.splitext(os.path.splitext(tar_file)[0])[0]\n",
    "            tar_ref.extractall(extract_dir)\n",
    "            print(f\"Extracted {tar_file} to {extract_dir}\")\n",
    "    except (tarfile.ReadError, tarfile.CompressionError) as e:\n",
    "        print(f\"Failed to extract {tar_file}: {e}\")\n",
    "\n",
    "print(\"Extraction process completed.\")"
   ]
  }
 ],
 "metadata": {
  "kernelspec": {
   "display_name": "Python 3",
   "language": "python",
   "name": "python3"
  },
  "language_info": {
   "codemirror_mode": {
    "name": "ipython",
    "version": 3
   },
   "file_extension": ".py",
   "mimetype": "text/x-python",
   "name": "python",
   "nbconvert_exporter": "python",
   "pygments_lexer": "ipython3",
   "version": "3.12.3"
  }
 },
 "nbformat": 4,
 "nbformat_minor": 2
}
