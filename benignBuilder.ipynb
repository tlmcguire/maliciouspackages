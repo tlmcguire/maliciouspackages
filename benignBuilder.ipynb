{
 "cells": [
  {
   "cell_type": "code",
   "execution_count": 1,
   "metadata": {},
   "outputs": [],
   "source": [
    "import requests\n",
    "import subprocess\n",
    "import sys\n",
    "import os\n",
    "import tarfile\n",
    "import time\n",
    "import json"
   ]
  },
  {
   "cell_type": "code",
   "execution_count": null,
   "metadata": {},
   "outputs": [],
   "source": [
    "def get_top_pypi_packages(url='https://hugovk.github.io/top-pypi-packages/top-pypi-packages-30-days.json'):\n",
    "    response = requests.get(url)\n",
    "    response.raise_for_status() \n",
    "    \n",
    "    data = response.json()\n",
    "    packages = [package['project'] for package in data['rows'][:1500]]\n",
    "\n",
    "    return packages\n",
    "\n",
    "top_packages = get_top_pypi_packages()\n",
    "print(top_packages)\n"
   ]
  },
  {
   "cell_type": "code",
   "execution_count": null,
   "metadata": {},
   "outputs": [],
   "source": [
    "def dl_packages(packages, target_directory):\n",
    "    count = 0\n",
    "    for idx, package in enumerate(packages, start=1):\n",
    "        package_dir = os.path.join(target_directory, package)\n",
    "        os.makedirs(package_dir, exist_ok=True)\n",
    "        retries = 2\n",
    "        delay = 1\n",
    "        try:\n",
    "            r = requests.get(f\"https://pypi.org/pypi/{package}/json\").content\n",
    "            d = json.loads(r)\n",
    "            for url in d[\"urls\"]:\n",
    "                if url[\"packagetype\"] == \"sdist\":\n",
    "                    download_url = url[\"url\"]\n",
    "                    print(f\"Downloading {package} from {download_url}\")\n",
    "                    response = requests.get(download_url)\n",
    "                    file_name = os.path.basename(download_url)\n",
    "                    with open(os.path.join(package_dir, file_name), 'wb') as file:\n",
    "                        file.write(response.content)\n",
    "                    print(f\"Downloaded {package} into {package_dir}/{file_name}\")\n",
    "                    count += 1\n",
    "                    print(f\"Progress: {count}/{len(packages)}\")\n",
    "                    break\n",
    "        except Exception as e:\n",
    "            print(f\"Failed to download {package}: {e}\")\n",
    "            retries -= 1\n",
    "            if retries == 0:\n",
    "                print(f\"Max retries reached for {package}. Skipping.\")\n",
    "            else:\n",
    "                print(f\"Retrying in {delay} seconds...\")\n",
    "                time.sleep(delay)\n",
    "                delay *= 2  # Exponential backoff\n",
    "                continue\n",
    "\n",
    "download_directory = '/mnt/volume_nyc1_01/benignPyPI/'\n",
    "\n",
    "dl_packages(top_packages, download_directory)"
   ]
  },
  {
   "cell_type": "code",
   "execution_count": null,
   "metadata": {},
   "outputs": [],
   "source": [
    "repo_dir = \"/mnt/volume_nyc1_01/benignPyPI/\"\n",
    "#Find all tar.gz files in the repository\n",
    "tar_files = []\n",
    "for root, dirs, files in os.walk(repo_dir):\n",
    "    for file in files:\n",
    "        if file.endswith(\".tar.gz\") or file.endswith(\".tar.bz2\") or file.endswith(\".tar.xz\"):\n",
    "            tar_files.append(os.path.join(root, file))\n",
    "\n",
    "#Unzip the files with different compression methods\n",
    "for tar_file in tar_files:\n",
    "    if tar_file.endswith(\".tar.gz\"):\n",
    "        mode = 'r:gz'\n",
    "    elif tar_file.endswith(\".tar.bz2\"):\n",
    "        mode = 'r:bz2'\n",
    "    elif tar_file.endswith(\".tar.xz\"):\n",
    "        mode = 'r:xz'\n",
    "    else:\n",
    "        mode = 'r'\n",
    "    \n",
    "    try:\n",
    "        with tarfile.open(tar_file, mode) as tar_ref:\n",
    "            extract_dir = os.path.splitext(os.path.splitext(tar_file)[0])[0]\n",
    "            tar_ref.extractall(extract_dir)\n",
    "            print(f\"Extracted {tar_file} to {extract_dir}\")\n",
    "    except (tarfile.ReadError, tarfile.CompressionError) as e:\n",
    "        print(f\"Failed to extract {tar_file}: {e}\")\n",
    "\n",
    "print(\"Extraction process completed.\")"
   ]
  }
 ],
 "metadata": {
  "kernelspec": {
   "display_name": "Python 3",
   "language": "python",
   "name": "python3"
  },
  "language_info": {
   "codemirror_mode": {
    "name": "ipython",
    "version": 3
   },
   "file_extension": ".py",
   "mimetype": "text/x-python",
   "name": "python",
   "nbconvert_exporter": "python",
   "pygments_lexer": "ipython3",
   "version": "3.12.3"
  }
 },
 "nbformat": 4,
 "nbformat_minor": 2
}
