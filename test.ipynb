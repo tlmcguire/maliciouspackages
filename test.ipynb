{
 "cells": [
  {
   "cell_type": "code",
   "execution_count": null,
   "metadata": {},
   "outputs": [],
   "source": [
    "import os\n",
    "import tarfile"
   ]
  },
  {
   "cell_type": "code",
   "execution_count": null,
   "metadata": {},
   "outputs": [],
   "source": [
    "repo_dir = \"/mnt/volume_nyc1_01/pypi_malregistry\"  \n",
    "\n",
    "#Find all tar.gz files in the repository\n",
    "tar_files = []\n",
    "for root, dirs, files in os.walk(repo_dir):\n",
    "    for file in files:\n",
    "        if file.endswith(\".tar.gz\"):\n",
    "            tar_files.append(os.path.join(root, file))\n",
    "\n",
    "#Unzip the files\n",
    "for tar_file in tar_files:\n",
    "    with tarfile.open(tar_file, 'r:gz') as tar_ref:\n",
    "        extract_dir = os.path.splitext(os.path.splitext(tar_file)[0])[0]\n",
    "        tar_ref.extractall(extract_dir)\n",
    "        print(f\"Extracted {tar_file} to {extract_dir}\")\n",
    "\n",
    "print(\"All tar.gz files have been extracted.\")\n"
   ]
  }
 ],
 "metadata": {
  "language_info": {
   "name": "python"
  }
 },
 "nbformat": 4,
 "nbformat_minor": 2
}
